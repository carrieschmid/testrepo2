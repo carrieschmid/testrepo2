{
 "cells": [
  {
   "cell_type": "code",
   "execution_count": null,
   "id": "c945d06e-98cf-42f5-964b-c15f15258dad",
   "metadata": {},
   "outputs": [],
   "source": [
    "# This will convert 200 minutes to hours by diving by 60"
   ]
  },
  {
   "cell_type": "code",
   "execution_count": 3,
   "id": "19b265fd-88ee-46b1-9393-abe3606c7b5e",
   "metadata": {},
   "outputs": [
    {
     "data": {
      "text/plain": [
       "3.3333333333333335"
      ]
     },
     "execution_count": 3,
     "metadata": {},
     "output_type": "execute_result"
    }
   ],
   "source": [
    "200/60"
   ]
  },
  {
   "cell_type": "markdown",
   "id": "c36ba18f-e23d-44a3-beae-1e7624988e78",
   "metadata": {},
   "source": [
    "**Objectives:**\n",
    "\n",
    "- List popular languages for Data Science  \n",
    "- Describe common tools used in Data Science workflows  \n",
    "- Explain the role of libraries like pandas and NumPy  \n",
    "- Understand basic data manipulation techniques  \n",
    "- Visualize data using libraries like Matplotlib or Seaborn  \n"
   ]
  },
  {
   "cell_type": "markdown",
   "id": "092348c9-7b4a-4e4c-8651-d6008b7ec9e9",
   "metadata": {},
   "source": [
    "## Author\n",
    "Carrie Schmid"
   ]
  },
  {
   "cell_type": "code",
   "execution_count": null,
   "id": "b0973d3f-050b-4d01-a5c6-e8af4d40937d",
   "metadata": {},
   "outputs": [],
   "source": []
  }
 ],
 "metadata": {
  "kernelspec": {
   "display_name": "Python 3 (ipykernel)",
   "language": "python",
   "name": "python3"
  },
  "language_info": {
   "codemirror_mode": {
    "name": "ipython",
    "version": 3
   },
   "file_extension": ".py",
   "mimetype": "text/x-python",
   "name": "python",
   "nbconvert_exporter": "python",
   "pygments_lexer": "ipython3",
   "version": "3.12.8"
  }
 },
 "nbformat": 4,
 "nbformat_minor": 5
}
